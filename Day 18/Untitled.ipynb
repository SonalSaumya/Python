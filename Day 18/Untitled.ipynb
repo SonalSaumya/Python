{
 "cells": [
  {
   "cell_type": "code",
   "execution_count": null,
   "id": "b2508c91-9099-4524-844e-2593e1ab05fd",
   "metadata": {},
   "outputs": [],
   "source": [
    "import numpy as np\n",
    "import pandas as pd\n"
   ]
  },
  {
   "cell_type": "code",
   "execution_count": null,
   "id": "68f73c57-5d3a-4152-9bec-ae53b22f05f2",
   "metadata": {},
   "outputs": [],
   "source": [
    "months=['jan','feb','march','april','may','june','july','august','sept','oct','nov','dec']"
   ]
  },
  {
   "cell_type": "code",
   "execution_count": null,
   "id": "716b2b67-5a71-4c91-9bfa-8fc0abc4adc5",
   "metadata": {},
   "outputs": [],
   "source": [
    "values = np.random.randint(1000,5000,12)"
   ]
  },
  {
   "cell_type": "code",
   "execution_count": null,
   "id": "6f7d7af3-ff81-4b2c-8981-4e2faa21023a",
   "metadata": {},
   "outputs": [],
   "source": [
    "m_exp = pd.Series(values, index=months)"
   ]
  },
  {
   "cell_type": "code",
   "execution_count": null,
   "id": "9615c14d-71be-4238-ab19-4b26fbe40d20",
   "metadata": {},
   "outputs": [],
   "source": [
    "print(m_exp)"
   ]
  },
  {
   "cell_type": "code",
   "execution_count": null,
   "id": "d566f814-f40b-4f72-929f-2aaa4218cd19",
   "metadata": {},
   "outputs": [],
   "source": [
    "print(\"sum : \",m_exp.sum())\n",
    "print(\"mean : \",m_exp.mean())\n",
    "print(\"minimum : \",m_exp.min())\n",
    "print(\"maximum : \",m_exp.max())"
   ]
  },
  {
   "cell_type": "code",
   "execution_count": null,
   "id": "07724c57-7306-41f6-92cd-1c8061efa72b",
   "metadata": {},
   "outputs": [],
   "source": [
    "print(\"Values at march\",m_exp.loc['march'])"
   ]
  },
  {
   "cell_type": "code",
   "execution_count": null,
   "id": "e71e41f8-2e87-40a8-ae95-2951310355e2",
   "metadata": {},
   "outputs": [],
   "source": [
    "print(\"\\nvalues from jan to march\\n\",m_exp.loc['jan':'march'])"
   ]
  },
  {
   "cell_type": "code",
   "execution_count": null,
   "id": "343a57b1-84b6-4393-8837-93bc58d6bc9d",
   "metadata": {},
   "outputs": [],
   "source": [
    "res = m_exp[m_exp['values']>2000]\n",
    "print(res)\n"
   ]
  },
  {
   "cell_type": "code",
   "execution_count": null,
   "id": "716701e3-54f5-4336-995a-7b64bb31285e",
   "metadata": {},
   "outputs": [],
   "source": []
  }
 ],
 "metadata": {
  "kernelspec": {
   "display_name": "Python 3 (ipykernel)",
   "language": "python",
   "name": "python3"
  },
  "language_info": {
   "name": ""
  }
 },
 "nbformat": 4,
 "nbformat_minor": 5
}
