{
 "cells": [
  {
   "cell_type": "code",
   "execution_count": 1,
   "id": "5ed4f8f3-b134-4c0f-8054-71da4a41bb50",
   "metadata": {},
   "outputs": [],
   "source": [
    "import pandas as pd"
   ]
  },
  {
   "cell_type": "code",
   "execution_count": 4,
   "id": "56079e81-b664-4fb2-af43-0b9de6e5c1a8",
   "metadata": {},
   "outputs": [],
   "source": [
    "data = {'values' : [10,12,12,13,14,13,25,3,4,400]}\n",
    "df = pd.DataFrame(data)"
   ]
  },
  {
   "cell_type": "code",
   "execution_count": 5,
   "id": "6a94c26e-ce8c-4246-9ad0-d3937a95bd8f",
   "metadata": {},
   "outputs": [
    {
     "name": "stdout",
     "output_type": "stream",
     "text": [
      "   values\n",
      "0      10\n",
      "1      12\n",
      "2      12\n",
      "3      13\n",
      "4      14\n",
      "5      13\n",
      "6      25\n",
      "7       3\n",
      "8       4\n",
      "9     400\n"
     ]
    }
   ],
   "source": [
    "print(df)"
   ]
  },
  {
   "cell_type": "code",
   "execution_count": 7,
   "id": "978de9f7-4d36-4f27-b5fc-032fc5617e24",
   "metadata": {},
   "outputs": [
    {
     "name": "stdout",
     "output_type": "stream",
     "text": [
      "3.25\n"
     ]
    }
   ],
   "source": [
    "q1 = df['values'].quantile(0.25)\n",
    "q3 = df['values'].quantile(0.75)\n",
    "\n",
    "iqr = q3 - q1\n",
    "print(iqr)"
   ]
  },
  {
   "cell_type": "code",
   "execution_count": 14,
   "id": "f3300cc5-7177-4044-8379-8819d2aa83f3",
   "metadata": {},
   "outputs": [],
   "source": [
    "lb = q1 - 1.5*iqr\n",
    "ub = q3+1.5*iqr\n"
   ]
  },
  {
   "cell_type": "code",
   "execution_count": 15,
   "id": "919c2c06-710a-434a-9d28-74c6a8484699",
   "metadata": {},
   "outputs": [
    {
     "name": "stdout",
     "output_type": "stream",
     "text": [
      "Outliers:\n",
      "    values\n",
      "6      25\n",
      "7       3\n",
      "8       4\n",
      "9     400\n"
     ]
    }
   ],
   "source": [
    "outliers = df[(df['values'] < lb) | (df['values'] > ub)]\n",
    "print(\"Outliers:\\n\", outliers)"
   ]
  },
  {
   "cell_type": "code",
   "execution_count": null,
   "id": "c58294ad-ee6f-4a2c-abb4-3bf811f689db",
   "metadata": {},
   "outputs": [],
   "source": []
  }
 ],
 "metadata": {
  "kernelspec": {
   "display_name": "Python 3 (ipykernel)",
   "language": "python",
   "name": "python3"
  },
  "language_info": {
   "codemirror_mode": {
    "name": "ipython",
    "version": 3
   },
   "file_extension": ".py",
   "mimetype": "text/x-python",
   "name": "python",
   "nbconvert_exporter": "python",
   "pygments_lexer": "ipython3",
   "version": "3.12.4"
  }
 },
 "nbformat": 4,
 "nbformat_minor": 5
}
