{
 "cells": [
  {
   "cell_type": "code",
   "execution_count": 1,
   "id": "b119e7b1-1270-40e9-9a90-6860319f3186",
   "metadata": {},
   "outputs": [],
   "source": [
    "import numpy as np"
   ]
  },
  {
   "cell_type": "code",
   "execution_count": 2,
   "id": "364ce71f-c850-44cd-a1c7-eb46e7de2703",
   "metadata": {},
   "outputs": [
    {
     "name": "stdout",
     "output_type": "stream",
     "text": [
      "[[1 9 5]\n",
      " [2 8 5]\n",
      " [2 8 1]]\n"
     ]
    }
   ],
   "source": [
    "arr = np.random.randint(1,10,size=(3,3))\n",
    "print(arr)\n",
    "                    "
   ]
  },
  {
   "cell_type": "code",
   "execution_count": 3,
   "id": "91bdeb50-7744-4fb5-9d9b-ce95f127e8b3",
   "metadata": {},
   "outputs": [],
   "source": [
    "vals,vect = np.linalg.eig(arr)"
   ]
  },
  {
   "cell_type": "code",
   "execution_count": 8,
   "id": "5576bd19-6296-499f-9ac6-4ebee4f77c40",
   "metadata": {},
   "outputs": [
    {
     "name": "stdout",
     "output_type": "stream",
     "text": [
      "Eigen values :  [13.88152731 -1.         -2.88152731]\n",
      "Eigen vectors :  [[-0.61985784 -0.96107446 -0.3402591 ]\n",
      " [-0.61985784  0.26211122 -0.3402591 ]\n",
      " [-0.48119903 -0.08737041  0.87661137]]\n"
     ]
    }
   ],
   "source": [
    "print(\"Eigen values : \",vals)\n",
    "print(\"Eigen vectors : \",vect)"
   ]
  },
  {
   "cell_type": "code",
   "execution_count": 14,
   "id": "da7f75a3-4b31-418c-be70-5c9e196c5e63",
   "metadata": {},
   "outputs": [],
   "source": [
    "#vals.tofile('values_&_vectors.csv',sep=',')"
   ]
  },
  {
   "cell_type": "code",
   "execution_count": null,
   "id": "dadb3f87-73b8-4188-94a3-6df6a2052094",
   "metadata": {},
   "outputs": [],
   "source": [
    "#np.savetxt('values_&_vectors.csv', np.column_stack((vals,vect)) ,delimiter=',',header='values,vectors', fmt='%.d,%.2f')"
   ]
  },
  {
   "cell_type": "code",
   "execution_count": 19,
   "id": "851d4e51-54fd-4376-b1a0-c61ed401175f",
   "metadata": {},
   "outputs": [],
   "source": [
    "np.savetxt('values_&_vectors.csv', np.column_stack((vals,vect)) ,delimiter=',',header='values,vectors')"
   ]
  },
  {
   "cell_type": "code",
   "execution_count": null,
   "id": "9ed0680a-0eae-4e0e-b9cb-e072f449b332",
   "metadata": {},
   "outputs": [],
   "source": []
  }
 ],
 "metadata": {
  "kernelspec": {
   "display_name": "Python 3 (ipykernel)",
   "language": "python",
   "name": "python3"
  },
  "language_info": {
   "codemirror_mode": {
    "name": "ipython",
    "version": 3
   },
   "file_extension": ".py",
   "mimetype": "text/x-python",
   "name": "python",
   "nbconvert_exporter": "python",
   "pygments_lexer": "ipython3",
   "version": "3.12.4"
  }
 },
 "nbformat": 4,
 "nbformat_minor": 5
}
